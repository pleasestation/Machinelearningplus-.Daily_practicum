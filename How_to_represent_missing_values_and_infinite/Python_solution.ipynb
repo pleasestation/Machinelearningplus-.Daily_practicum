{
 "cells": [
  {
   "cell_type": "markdown",
   "metadata": {},
   "source": [
    "## How to represent missing values and infinite?\n",
    "#### Python solution of the survey\n",
    "\n",
    "##### Python code #001:\n",
    "```python\n",
    "import numpy as np\n",
    "\n",
    "# Create a 2D array (3x3 for example)\n",
    "arr2d = np.array([[1, 2, 3],\n",
    "                  [4, np.nan, 6],  # np.nan represents a missing value\n",
    "                  [7, np.inf, 9]])  # np.inf represents an infinite value\n",
    "\n",
    "print(\"Array with missing and infinite values:\")\n",
    "print(arr2d)\n"
   ]
  },
  {
   "cell_type": "markdown",
   "metadata": {},
   "source": [
    "#### Output #001"
   ]
  },
  {
   "cell_type": "markdown",
   "metadata": {},
   "source": [
    "```lua\n",
    "Array with missing and infinite values:\n",
    "[[ 1.  2.  3.]\n",
    " [ 4. nan  6.]\n",
    " [ 7. inf  9.]]"
   ]
  },
  {
   "cell_type": "markdown",
   "metadata": {},
   "source": [
    "## The Machinelearningplus solution of the survey"
   ]
  },
  {
   "cell_type": "markdown",
   "metadata": {},
   "source": [
    "#### Python code #002:\n",
    "```python\n",
    "import numpy as np\n",
    "\n",
    "# Create a 2D array (3x4 for example)\n",
    "arr2 = np.array([[1, 2, 3, 4],\n",
    "                 [3, 5, 6, 7],\n",
    "                 [5, 6, 7, 8]])\n",
    "\n",
    "# Insert a nan and an inf\n",
    "arr2[1, 1] = np.nan  # not a number\n",
    "arr2[1, 2] = np.inf  # infinite\n",
    "\n",
    "# Output the modified array\n",
    "print(arr2)\n"
   ]
  },
  {
   "cell_type": "markdown",
   "metadata": {},
   "source": [
    "#### Output #002\n",
    "```lua\n",
    "# Insert a nan and an inf\n",
    "arr2[1,1] = np.nan  # not a number\n",
    "arr2[1,2] = np.inf  # infinite\n",
    "arr2\n",
    "\n",
    "#> array([[  1.,   2.,   3.,   4.],\n",
    "#>        [  3.,  nan,  inf,   6.],\n",
    "#>        [  5.,   6.,   7.,   8.]])"
   ]
  },
  {
   "cell_type": "markdown",
   "metadata": {},
   "source": [
    "#### Python code #003:\n",
    "```Python\n",
    "import numpy as np\n",
    "\n",
    "# Create a 2D array (3x4 for example)\n",
    "arr2 = np.array([[1, 2, 3, 4],\n",
    "                 [3, np.nan, np.inf, 6],\n",
    "                 [5, 6, 7, 8]])\n",
    "\n",
    "# Replace nan and inf with -1. Don't use arr2 == np.nan\n",
    "missing_bool = np.isnan(arr2) | np.isinf(arr2)\n",
    "arr2[missing_bool] = -1\n",
    "\n",
    "# Output the modified array\n",
    "print(arr2)\n"
   ]
  },
  {
   "cell_type": "markdown",
   "metadata": {},
   "source": [
    "#### Output #003\n",
    "```lua\n",
    "# Replace nan and inf with -1. Don't use arr2 == np.nan\n",
    "missing_bool = np.isnan(arr2) | np.isinf(arr2)\n",
    "arr2[missing_bool] = -1  \n",
    "arr2\n",
    "\n",
    "#> array([[ 1.,  2.,  3.,  4.],\n",
    "#>        [ 3., -1., -1.,  6.],\n",
    "#>        [ 5.,  6.,  7.,  8.]])\n"
   ]
  },
  {
   "cell_type": "markdown",
   "metadata": {},
   "source": []
  }
 ],
 "metadata": {
  "language_info": {
   "name": "python"
  }
 },
 "nbformat": 4,
 "nbformat_minor": 2
}
